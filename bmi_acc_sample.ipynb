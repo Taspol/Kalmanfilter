{
 "cells": [
  {
   "cell_type": "code",
   "execution_count": 3,
   "id": "7a26f870",
   "metadata": {},
   "outputs": [],
   "source": [
    "import numpy as np\n",
    "import pandas as pd\n",
    "\n",
    "def load_data(filepath):\n",
    "    return pd.read_csv(filepath)"
   ]
  },
  {
   "cell_type": "code",
   "execution_count": 21,
   "id": "1f2de60a",
   "metadata": {},
   "outputs": [
    {
     "data": {
      "text/html": [
       "<div>\n",
       "<style scoped>\n",
       "    .dataframe tbody tr th:only-of-type {\n",
       "        vertical-align: middle;\n",
       "    }\n",
       "\n",
       "    .dataframe tbody tr th {\n",
       "        vertical-align: top;\n",
       "    }\n",
       "\n",
       "    .dataframe thead th {\n",
       "        text-align: right;\n",
       "    }\n",
       "</style>\n",
       "<table border=\"1\" class=\"dataframe\">\n",
       "  <thead>\n",
       "    <tr style=\"text-align: right;\">\n",
       "      <th></th>\n",
       "      <th>sample_index</th>\n",
       "      <th>tick</th>\n",
       "      <th>accX</th>\n",
       "      <th>accY</th>\n",
       "      <th>accZ</th>\n",
       "    </tr>\n",
       "  </thead>\n",
       "  <tbody>\n",
       "    <tr>\n",
       "      <th>0</th>\n",
       "      <td>0</td>\n",
       "      <td>2307</td>\n",
       "      <td>0.348475</td>\n",
       "      <td>-0.133822</td>\n",
       "      <td>9.76270</td>\n",
       "    </tr>\n",
       "    <tr>\n",
       "      <th>1</th>\n",
       "      <td>1</td>\n",
       "      <td>3320</td>\n",
       "      <td>0.317041</td>\n",
       "      <td>-0.137414</td>\n",
       "      <td>9.74653</td>\n",
       "    </tr>\n",
       "    <tr>\n",
       "      <th>2</th>\n",
       "      <td>2</td>\n",
       "      <td>4320</td>\n",
       "      <td>0.371827</td>\n",
       "      <td>-0.169747</td>\n",
       "      <td>9.77168</td>\n",
       "    </tr>\n",
       "    <tr>\n",
       "      <th>3</th>\n",
       "      <td>3</td>\n",
       "      <td>5320</td>\n",
       "      <td>0.379012</td>\n",
       "      <td>-0.182321</td>\n",
       "      <td>9.76539</td>\n",
       "    </tr>\n",
       "    <tr>\n",
       "      <th>4</th>\n",
       "      <td>4</td>\n",
       "      <td>6334</td>\n",
       "      <td>0.349373</td>\n",
       "      <td>-0.138312</td>\n",
       "      <td>9.68546</td>\n",
       "    </tr>\n",
       "    <tr>\n",
       "      <th>...</th>\n",
       "      <td>...</td>\n",
       "      <td>...</td>\n",
       "      <td>...</td>\n",
       "      <td>...</td>\n",
       "      <td>...</td>\n",
       "    </tr>\n",
       "    <tr>\n",
       "      <th>129</th>\n",
       "      <td>129</td>\n",
       "      <td>131918</td>\n",
       "      <td>0.348475</td>\n",
       "      <td>-0.188608</td>\n",
       "      <td>9.80042</td>\n",
       "    </tr>\n",
       "    <tr>\n",
       "      <th>130</th>\n",
       "      <td>130</td>\n",
       "      <td>132918</td>\n",
       "      <td>0.380808</td>\n",
       "      <td>-0.138312</td>\n",
       "      <td>9.76629</td>\n",
       "    </tr>\n",
       "    <tr>\n",
       "      <th>131</th>\n",
       "      <td>131</td>\n",
       "      <td>133930</td>\n",
       "      <td>0.363744</td>\n",
       "      <td>-0.169747</td>\n",
       "      <td>9.76539</td>\n",
       "    </tr>\n",
       "    <tr>\n",
       "      <th>132</th>\n",
       "      <td>132</td>\n",
       "      <td>134930</td>\n",
       "      <td>0.368234</td>\n",
       "      <td>-0.158969</td>\n",
       "      <td>9.74743</td>\n",
       "    </tr>\n",
       "    <tr>\n",
       "      <th>133</th>\n",
       "      <td>133</td>\n",
       "      <td>135944</td>\n",
       "      <td>1.118170</td>\n",
       "      <td>0.339494</td>\n",
       "      <td>4.50683</td>\n",
       "    </tr>\n",
       "  </tbody>\n",
       "</table>\n",
       "<p>134 rows × 5 columns</p>\n",
       "</div>"
      ],
      "text/plain": [
       "     sample_index    tick      accX      accY     accZ\n",
       "0               0    2307  0.348475 -0.133822  9.76270\n",
       "1               1    3320  0.317041 -0.137414  9.74653\n",
       "2               2    4320  0.371827 -0.169747  9.77168\n",
       "3               3    5320  0.379012 -0.182321  9.76539\n",
       "4               4    6334  0.349373 -0.138312  9.68546\n",
       "..            ...     ...       ...       ...      ...\n",
       "129           129  131918  0.348475 -0.188608  9.80042\n",
       "130           130  132918  0.380808 -0.138312  9.76629\n",
       "131           131  133930  0.363744 -0.169747  9.76539\n",
       "132           132  134930  0.368234 -0.158969  9.74743\n",
       "133           133  135944  1.118170  0.339494  4.50683\n",
       "\n",
       "[134 rows x 5 columns]"
      ]
     },
     "execution_count": 21,
     "metadata": {},
     "output_type": "execute_result"
    }
   ],
   "source": [
    "acc_sample = load_data(\"./bmi088acc.csv\")\n",
    "acc_sample.reset_index(inplace=True)\n",
    "acc_sample.rename(columns={'index': 'sample_index'}, inplace=True)\n",
    "acc_sample"
   ]
  },
  {
   "cell_type": "code",
   "execution_count": 20,
   "id": "bd731f09",
   "metadata": {},
   "outputs": [
    {
     "data": {
      "application/vnd.plotly.v1+json": {
       "config": {
        "plotlyServerURL": "https://plot.ly"
       },
       "data": [
        {
         "hovertemplate": "variable=accX<br>sample_index=%{x}<br>value=%{y}<extra></extra>",
         "legendgroup": "accX",
         "line": {
          "color": "#636efa",
          "dash": "solid"
         },
         "marker": {
          "symbol": "circle"
         },
         "mode": "lines",
         "name": "accX",
         "orientation": "v",
         "showlegend": true,
         "type": "scatter",
         "x": {
          "bdata": "AAABAAIAAwAEAAUABgAHAAgACQAKAAsADAANAA4ADwAQABEAEgATABQAFQAWABcAGAAZABoAGwAcAB0AHgAfACAAIQAiACMAJAAlACYAJwAoACkAKgArACwALQAuAC8AMAAxADIAMwA0ADUANgA3ADgAOQA6ADsAPAA9AD4APwBAAEEAQgBDAEQARQBGAEcASABJAEoASwBMAE0ATgBPAFAAUQBSAFMAVABVAFYAVwBYAFkAWgBbAFwAXQBeAF8AYABhAGIAYwBkAGUAZgBnAGgAaQBqAGsAbABtAG4AbwBwAHEAcgBzAHQAdQB2AHcAeAB5AHoAewB8AH0AfgB/AIAAgQCCAIMAhACFAA==",
          "dtype": "i2"
         },
         "xaxis": "x",
         "y": {
          "bdata": "dk8eFmpN1j/Gbp9VZkrUP0ZEMXkDzNc/yqgyjLtB2D8Bv0aSIFzWP8AhVKnZA9Y/fhghPNo41z/nUIaqmErZP7TJ4ZNOJNg/boYb8Plh1T/WAKWhRiHWPzBl4ICWrtc/averAN9t2D9DyHn/HyfVP1Kco46Oq9U/fhghPNo41z9fsvFgi93UP/xx++WTFdg/RkQxeQPM1z9SnKOOjqvVPz57LlOT4NY/4lgXt9EA1D9aZaa0/pbWP7yS5Lm+D9k/3QvMCkW61T8xI7w9CAHZP7vUCP1Mvdc/PL1SliGO1T92Tx4Wak3WP3BE96xrtNY/vqWcL/Ze0z/eyafHtgzXP0uRfCWQEtY/+rMfKSLD1j8tlExO7QzcP3BE96xrtNY/OC7jpgaa2D+5Fi1A22rWP/So+L8jKtc/RIZVvJF51j+EZWzoZn/VP8OdCyO9qNg/xm6fVWZK1D+0yeGTTiTYP0uRfCWQEtY/dk8eFmpN1j+wOnKkMzDbP3gN+tLbn9c/yqgyjLtB2D+5Fi1A22rWP0cCDTZ1Htk/51CGqphK2T9K06BoHsDUPz85ChAFM9g/cQLTad0G2D9EhlW8kXnWP1sjgnFw6dc/tYe9UMB22T9LkXwlkBLWPz57LlOT4NY/uRYtQNtq1j/59UNssHDVP1plprT+ltY/vqWcL/Ze0z9X6e46G/LTP7WHvVDAdtk/4xbzc0NT1T9ne/SG+8jVP0cCDTZ1Htk/fhghPNo41z9iLqnaboLXPz85ChAFM9g/176AXrhz1z/1ZtR8lXzYPzBl4ICWrtc/N3AH6pRH1z/9L9eiBWjZP8qoMoy7Qdg/uRYtQNtq1j/1ZtR8lXzYP2PshJfg1Ng/hGVs6GZ/1T/8cfvlkxXYPwG/RpIgXNY/yOpWz0nv1j+71Aj9TL3XP/So+L8jKtc/fhghPNo41z9TWn9LAP7WP9v4E5UNa9s/N3AH6pRH1z83cAfqlEfXP9e+gF64c9c/0LNZ9bna1z8Bv0aSIFzWP2r3qwDfbdg/YXDNHf0v1j81sistI/XVP8jqVs9J79Y/Ab9GkiBc1j9SR8fVyK7cPwABa9WuCdU/+rMfKSLD1j/eyafHtgzXP1sjgnFw6dc/34eDhChf2D9bI4JxcOnXP3gN+tLbn9c/5dTOMLWl1j/hRV9BmrHZPzdwB+qUR9c/0LNZ9bna1z+71Aj9TL3XP3ycacL2k9Q/WafK94xE1T/WAKWhRiHWP97Jp8e2DNc/PzkKEAUz2D/dC8wKRbrVP/Vm1HyVfNg/rb66KlCL2D9VGFsIclDYPwG/RpIgXNY/Upyjjo6r1T/P9X04SIjWP7yS5Lm+D9k/eA360tuf1z/C3y9mS1bXP/xx++WTFdg/dk8eFmpN1j/fh4OEKF/YPzdwB+qUR9c/7Z3RViWR1z+k5NU5BuTxPw==",
          "dtype": "f8"
         },
         "yaxis": "y"
        },
        {
         "hovertemplate": "variable=accY<br>sample_index=%{x}<br>value=%{y}<extra></extra>",
         "legendgroup": "accY",
         "line": {
          "color": "#EF553B",
          "dash": "solid"
         },
         "marker": {
          "symbol": "circle"
         },
         "mode": "lines",
         "name": "accY",
         "orientation": "v",
         "showlegend": true,
         "type": "scatter",
         "x": {
          "bdata": "AAABAAIAAwAEAAUABgAHAAgACQAKAAsADAANAA4ADwAQABEAEgATABQAFQAWABcAGAAZABoAGwAcAB0AHgAfACAAIQAiACMAJAAlACYAJwAoACkAKgArACwALQAuAC8AMAAxADIAMwA0ADUANgA3ADgAOQA6ADsAPAA9AD4APwBAAEEAQgBDAEQARQBGAEcASABJAEoASwBMAE0ATgBPAFAAUQBSAFMAVABVAFYAVwBYAFkAWgBbAFwAXQBeAF8AYABhAGIAYwBkAGUAZgBnAGgAaQBqAGsAbABtAG4AbwBwAHEAcgBzAHQAdQB2AHcAeAB5AHoAewB8AH0AfgB/AIAAgQCCAIMAhACFAA==",
          "dtype": "i2"
         },
         "xaxis": "x",
         "y": {
          "bdata": "tB6+TBQhwb8LmwEuyJbBv90LzApFusW/wt8vZktWx78gelImNbTBv8qoMoy7Qci/3QvMCkW6xb8gelImNbTBv9e+gF64c8e/uRYtQNtqxr/wbmWJzjLDvw0XuaerO8S/176AXrhzx7+WIY51cRvHv90LzApFusW/4gM7/gsEy7+kN9xHbk3Gv3PXEvJBz76//YSzW8tkwr+sAN9t3jjHv8LfL2ZLVse/E2QEVDiCwr8b2CrB4nDKvyOhLedSXMu/Z7rXSX1Zvr/qIRrdQezEv78OnDOitMu/BU62gTtQw78FTraBO1DDvyu/DMaIRMW/34eDhChfyL+eP21UpwPBv/qzHykiw8a/1e3sKw/Su7+UUPpCyHnLv90LzApFusW/4lgXt9EAxL8rvwzGiETFvx6pvvOLEsa/v2N47GexxL/XvoBeuHPHv9JxNbIrLcm/qYQn9PqTxL/l1M4wtaXGvwjKbfse9cW/nuqQm+EGyL+xTSoaa3/Fv+JYF7fRAMS/9RH4w89/v7/HLHsS2JzFv9o6ONibGMq/wt8vZktWx7+3mnXG98XDv4kLQKN06ce/+Ddorz4exL/qIRrdQezEv/qzHykiw8a/7Z3RViWRx78rvwzGiETFv9JxNbIrLcm/wopTrYVZzr8YXHNH/8vHv/LqHAOy18W/wt8vZktWx7/6sx8pIsPGv9o6ONibGMq/MQxYchWLw78Qk3Ahj+DGv/BuZYnOMsO/6iEa3UHsxL8ArI4c6QzMv8r9DkWBPsG/mZ1F71TAyb8Qk3Ahj+DGv8qoMoy7Qci/K2owDcNHvL8gJXZtb7fIvwN9Ik+Srse/vJLkub4Pyb8bLQd6qG3Dv698lufB3cm/qS9LOzWXy7/1EfjDz3+/v7yS5Lm+D8m/GFxzR//Lx7+858ByhAzCv5nyIagavcK/E2QEVDiCwr+858ByhAzCvyAldm1vt8i/+rMfKSLDxr/opWJjXkfCv6G7JM6KqMO/BU62gTtQw7/dtu9Rf73MvyZywRn8/ca/yv0ORYE+wb+858ByhAzCv8csexLYnMW/rADfbd44x7/1ZtR8lXzIvxNkBFQ4gsK//YSzW8tkwr/dC8wKRbrFv+2d0VYlkce/uRYtQNtqxr/EW+ffLvvJv5nyIagavcK/ED6UaMnjvb8b2CrB4nDKv5Sl1vuNdsS/8uocA7LXxb8LRiV1AprIv8LfL2ZLVse/liGOdXEbx78j9gmgGFnEvwN9Ik+Srse/z/V9OEiIxr/iWBe30QDEv7eadcb3xcO/4lgXt9EAxL/4N2ivPh7Ev5mdRe9UwMm/p7OTwVHyyL8L8Ui8PJ3Pv6ezk8FR8si/Gy0Heqhtw79IGXEBaJS+vzEMWHIVi8O/tMnhk04kyL8gelImNbTBv90LzApFusW/I/YJoBhZxL/dC8wKRbrVPw==",
          "dtype": "f8"
         },
         "yaxis": "y"
        },
        {
         "hovertemplate": "variable=accZ<br>sample_index=%{x}<br>value=%{y}<extra></extra>",
         "legendgroup": "accZ",
         "line": {
          "color": "#00cc96",
          "dash": "solid"
         },
         "marker": {
          "symbol": "circle"
         },
         "mode": "lines",
         "name": "accZ",
         "orientation": "v",
         "showlegend": true,
         "type": "scatter",
         "x": {
          "bdata": "AAABAAIAAwAEAAUABgAHAAgACQAKAAsADAANAA4ADwAQABEAEgATABQAFQAWABcAGAAZABoAGwAcAB0AHgAfACAAIQAiACMAJAAlACYAJwAoACkAKgArACwALQAuAC8AMAAxADIAMwA0ADUANgA3ADgAOQA6ADsAPAA9AD4APwBAAEEAQgBDAEQARQBGAEcASABJAEoASwBMAE0ATgBPAFAAUQBSAFMAVABVAFYAVwBYAFkAWgBbAFwAXQBeAF8AYABhAGIAYwBkAGUAZgBnAGgAaQBqAGsAbABtAG4AbwBwAHEAcgBzAHQAdQB2AHcAeAB5AHoAewB8AH0AfgB/AIAAgQCCAIMAhACFAA==",
          "dtype": "i2"
         },
         "xaxis": "x",
         "y": {
          "bdata": "g1FJnYCGI0A89x4uOX4jQF70FaQZiyNA8l61MuGHI0CtbvWc9F4jQGB2Tx4WeiNApgpGJXWSI0Bf0hito4ojQDo7GRwlfyNAp+hILv+RI0DOx7WhYnwjQPDce7jkmCNA7+apDrmJI0DxgLIpV4gjQINRSZ2AhiNAzEV8J2aNI0A6deWzPI8jQDp15bM8jyNAFTqvsUuUI0CCc0aU9oYjQNBhvrwAeyNAONvcmJ6QI0BcOBCSBYwjQDp15bM8jyNA8KKvIM2II0Dw3Hu45JgjQDp15bM8jyNAgy9MpgqGI0DPg7uzdnsjQGCwG7YtiiNAp658lueBI0AVAOMZNIQjQPJetTLhhyNA8KKvIM2II0A+eVioNW0jQPGAsilXiCNAzemymNh8I0D1vvG1Z3YjQH8TChFwmCNAGGAfnbpyI0A6deWzPI8jQPGAsilXiCNApU5AE2GTI0Aa+ie4WHEjQKUsQxzrkiNAOnXlszyPI0CBzw8jhJcjQMx/SL99nSNAOnXlszyPI0A7GRwlr34jQO8gdqbQmSNAFCLgEKqEI0AXmus00oIjQIKLFTWYliNA8zy4O2uHI0BbttYXCZ0jQINpGD4iliNAgPEMGvqXI0Cn6Egu/5EjQDdxcr9DsSNAzQGCOXqMI0A4FakwtqAjQGCwG7YtiiNAh22LMht0I0BfmEwVjHojQIhLjjulcyNAFQDjGTSEI0DxRuaRP3gjQGIQWDm0eCNAOjsZHCV/I0DOpbiq7HsjQBh47j1cgiNApIgMq3ijI0BbttYXCZ0jQPTg7qzddiNAYviImBJpI0ASoKaWrZUjQM6luKrseyNAho+IKZF0I0DyXrUy4YcjQBbe5SK+gyNA7+apDrmJI0BcOBCSBYwjQDo7GRwlfyNAOnXlszyPI0A5l+Kqso8jQFu21hcJnSNANlmjHqKhI0AXmus00oIjQDy9UpYhbiNAho+IKZF0I0A7U+i8xo4jQIKtEiwOlyNAzAuwj059I0DN6bKY2HwjQMnlP6TfniNA7/54r1qZI0CE04IXfXUjQGFUUiegeSNApSxDHOuSI0AYeO49XIIjQEDZlCu8WyNAg1FJnYCGI0BcOBCSBYwjQD3VITfDfSNAFCLgEKqEI0AVAOMZNIQjQF+YTBWMeiNA9b7xtWd2I0BhMlUwKnkjQDgVqTC2oCNAO1PovMaOI0AUIuAQqoQjQIWxhSAHdSNAgPEMGvqXI0DN6bKY2HwjQM0Bgjl6jCNAgy9MpgqGI0AW3uUivoMjQKiMf59xgSNAX9IYraOKI0CBzw8jhJcjQMqJdhVSjiNAyol2FVKOI0DPg7uzdnsjQKYKRiV1kiNAE36pnzeVI0CE9X8O83UjQM0Bgjl6jCNA7yB2ptCZI0DxgLIpV4gjQPJetTLhhyNAOxkcJa9+I0DXhopx/gYSQA==",
          "dtype": "f8"
         },
         "yaxis": "y"
        }
       ],
       "layout": {
        "legend": {
         "title": {
          "text": "variable"
         },
         "tracegroupgap": 0
        },
        "template": {
         "data": {
          "bar": [
           {
            "error_x": {
             "color": "#2a3f5f"
            },
            "error_y": {
             "color": "#2a3f5f"
            },
            "marker": {
             "line": {
              "color": "#E5ECF6",
              "width": 0.5
             },
             "pattern": {
              "fillmode": "overlay",
              "size": 10,
              "solidity": 0.2
             }
            },
            "type": "bar"
           }
          ],
          "barpolar": [
           {
            "marker": {
             "line": {
              "color": "#E5ECF6",
              "width": 0.5
             },
             "pattern": {
              "fillmode": "overlay",
              "size": 10,
              "solidity": 0.2
             }
            },
            "type": "barpolar"
           }
          ],
          "carpet": [
           {
            "aaxis": {
             "endlinecolor": "#2a3f5f",
             "gridcolor": "white",
             "linecolor": "white",
             "minorgridcolor": "white",
             "startlinecolor": "#2a3f5f"
            },
            "baxis": {
             "endlinecolor": "#2a3f5f",
             "gridcolor": "white",
             "linecolor": "white",
             "minorgridcolor": "white",
             "startlinecolor": "#2a3f5f"
            },
            "type": "carpet"
           }
          ],
          "choropleth": [
           {
            "colorbar": {
             "outlinewidth": 0,
             "ticks": ""
            },
            "type": "choropleth"
           }
          ],
          "contour": [
           {
            "colorbar": {
             "outlinewidth": 0,
             "ticks": ""
            },
            "colorscale": [
             [
              0,
              "#0d0887"
             ],
             [
              0.1111111111111111,
              "#46039f"
             ],
             [
              0.2222222222222222,
              "#7201a8"
             ],
             [
              0.3333333333333333,
              "#9c179e"
             ],
             [
              0.4444444444444444,
              "#bd3786"
             ],
             [
              0.5555555555555556,
              "#d8576b"
             ],
             [
              0.6666666666666666,
              "#ed7953"
             ],
             [
              0.7777777777777778,
              "#fb9f3a"
             ],
             [
              0.8888888888888888,
              "#fdca26"
             ],
             [
              1,
              "#f0f921"
             ]
            ],
            "type": "contour"
           }
          ],
          "contourcarpet": [
           {
            "colorbar": {
             "outlinewidth": 0,
             "ticks": ""
            },
            "type": "contourcarpet"
           }
          ],
          "heatmap": [
           {
            "colorbar": {
             "outlinewidth": 0,
             "ticks": ""
            },
            "colorscale": [
             [
              0,
              "#0d0887"
             ],
             [
              0.1111111111111111,
              "#46039f"
             ],
             [
              0.2222222222222222,
              "#7201a8"
             ],
             [
              0.3333333333333333,
              "#9c179e"
             ],
             [
              0.4444444444444444,
              "#bd3786"
             ],
             [
              0.5555555555555556,
              "#d8576b"
             ],
             [
              0.6666666666666666,
              "#ed7953"
             ],
             [
              0.7777777777777778,
              "#fb9f3a"
             ],
             [
              0.8888888888888888,
              "#fdca26"
             ],
             [
              1,
              "#f0f921"
             ]
            ],
            "type": "heatmap"
           }
          ],
          "histogram": [
           {
            "marker": {
             "pattern": {
              "fillmode": "overlay",
              "size": 10,
              "solidity": 0.2
             }
            },
            "type": "histogram"
           }
          ],
          "histogram2d": [
           {
            "colorbar": {
             "outlinewidth": 0,
             "ticks": ""
            },
            "colorscale": [
             [
              0,
              "#0d0887"
             ],
             [
              0.1111111111111111,
              "#46039f"
             ],
             [
              0.2222222222222222,
              "#7201a8"
             ],
             [
              0.3333333333333333,
              "#9c179e"
             ],
             [
              0.4444444444444444,
              "#bd3786"
             ],
             [
              0.5555555555555556,
              "#d8576b"
             ],
             [
              0.6666666666666666,
              "#ed7953"
             ],
             [
              0.7777777777777778,
              "#fb9f3a"
             ],
             [
              0.8888888888888888,
              "#fdca26"
             ],
             [
              1,
              "#f0f921"
             ]
            ],
            "type": "histogram2d"
           }
          ],
          "histogram2dcontour": [
           {
            "colorbar": {
             "outlinewidth": 0,
             "ticks": ""
            },
            "colorscale": [
             [
              0,
              "#0d0887"
             ],
             [
              0.1111111111111111,
              "#46039f"
             ],
             [
              0.2222222222222222,
              "#7201a8"
             ],
             [
              0.3333333333333333,
              "#9c179e"
             ],
             [
              0.4444444444444444,
              "#bd3786"
             ],
             [
              0.5555555555555556,
              "#d8576b"
             ],
             [
              0.6666666666666666,
              "#ed7953"
             ],
             [
              0.7777777777777778,
              "#fb9f3a"
             ],
             [
              0.8888888888888888,
              "#fdca26"
             ],
             [
              1,
              "#f0f921"
             ]
            ],
            "type": "histogram2dcontour"
           }
          ],
          "mesh3d": [
           {
            "colorbar": {
             "outlinewidth": 0,
             "ticks": ""
            },
            "type": "mesh3d"
           }
          ],
          "parcoords": [
           {
            "line": {
             "colorbar": {
              "outlinewidth": 0,
              "ticks": ""
             }
            },
            "type": "parcoords"
           }
          ],
          "pie": [
           {
            "automargin": true,
            "type": "pie"
           }
          ],
          "scatter": [
           {
            "fillpattern": {
             "fillmode": "overlay",
             "size": 10,
             "solidity": 0.2
            },
            "type": "scatter"
           }
          ],
          "scatter3d": [
           {
            "line": {
             "colorbar": {
              "outlinewidth": 0,
              "ticks": ""
             }
            },
            "marker": {
             "colorbar": {
              "outlinewidth": 0,
              "ticks": ""
             }
            },
            "type": "scatter3d"
           }
          ],
          "scattercarpet": [
           {
            "marker": {
             "colorbar": {
              "outlinewidth": 0,
              "ticks": ""
             }
            },
            "type": "scattercarpet"
           }
          ],
          "scattergeo": [
           {
            "marker": {
             "colorbar": {
              "outlinewidth": 0,
              "ticks": ""
             }
            },
            "type": "scattergeo"
           }
          ],
          "scattergl": [
           {
            "marker": {
             "colorbar": {
              "outlinewidth": 0,
              "ticks": ""
             }
            },
            "type": "scattergl"
           }
          ],
          "scattermap": [
           {
            "marker": {
             "colorbar": {
              "outlinewidth": 0,
              "ticks": ""
             }
            },
            "type": "scattermap"
           }
          ],
          "scattermapbox": [
           {
            "marker": {
             "colorbar": {
              "outlinewidth": 0,
              "ticks": ""
             }
            },
            "type": "scattermapbox"
           }
          ],
          "scatterpolar": [
           {
            "marker": {
             "colorbar": {
              "outlinewidth": 0,
              "ticks": ""
             }
            },
            "type": "scatterpolar"
           }
          ],
          "scatterpolargl": [
           {
            "marker": {
             "colorbar": {
              "outlinewidth": 0,
              "ticks": ""
             }
            },
            "type": "scatterpolargl"
           }
          ],
          "scatterternary": [
           {
            "marker": {
             "colorbar": {
              "outlinewidth": 0,
              "ticks": ""
             }
            },
            "type": "scatterternary"
           }
          ],
          "surface": [
           {
            "colorbar": {
             "outlinewidth": 0,
             "ticks": ""
            },
            "colorscale": [
             [
              0,
              "#0d0887"
             ],
             [
              0.1111111111111111,
              "#46039f"
             ],
             [
              0.2222222222222222,
              "#7201a8"
             ],
             [
              0.3333333333333333,
              "#9c179e"
             ],
             [
              0.4444444444444444,
              "#bd3786"
             ],
             [
              0.5555555555555556,
              "#d8576b"
             ],
             [
              0.6666666666666666,
              "#ed7953"
             ],
             [
              0.7777777777777778,
              "#fb9f3a"
             ],
             [
              0.8888888888888888,
              "#fdca26"
             ],
             [
              1,
              "#f0f921"
             ]
            ],
            "type": "surface"
           }
          ],
          "table": [
           {
            "cells": {
             "fill": {
              "color": "#EBF0F8"
             },
             "line": {
              "color": "white"
             }
            },
            "header": {
             "fill": {
              "color": "#C8D4E3"
             },
             "line": {
              "color": "white"
             }
            },
            "type": "table"
           }
          ]
         },
         "layout": {
          "annotationdefaults": {
           "arrowcolor": "#2a3f5f",
           "arrowhead": 0,
           "arrowwidth": 1
          },
          "autotypenumbers": "strict",
          "coloraxis": {
           "colorbar": {
            "outlinewidth": 0,
            "ticks": ""
           }
          },
          "colorscale": {
           "diverging": [
            [
             0,
             "#8e0152"
            ],
            [
             0.1,
             "#c51b7d"
            ],
            [
             0.2,
             "#de77ae"
            ],
            [
             0.3,
             "#f1b6da"
            ],
            [
             0.4,
             "#fde0ef"
            ],
            [
             0.5,
             "#f7f7f7"
            ],
            [
             0.6,
             "#e6f5d0"
            ],
            [
             0.7,
             "#b8e186"
            ],
            [
             0.8,
             "#7fbc41"
            ],
            [
             0.9,
             "#4d9221"
            ],
            [
             1,
             "#276419"
            ]
           ],
           "sequential": [
            [
             0,
             "#0d0887"
            ],
            [
             0.1111111111111111,
             "#46039f"
            ],
            [
             0.2222222222222222,
             "#7201a8"
            ],
            [
             0.3333333333333333,
             "#9c179e"
            ],
            [
             0.4444444444444444,
             "#bd3786"
            ],
            [
             0.5555555555555556,
             "#d8576b"
            ],
            [
             0.6666666666666666,
             "#ed7953"
            ],
            [
             0.7777777777777778,
             "#fb9f3a"
            ],
            [
             0.8888888888888888,
             "#fdca26"
            ],
            [
             1,
             "#f0f921"
            ]
           ],
           "sequentialminus": [
            [
             0,
             "#0d0887"
            ],
            [
             0.1111111111111111,
             "#46039f"
            ],
            [
             0.2222222222222222,
             "#7201a8"
            ],
            [
             0.3333333333333333,
             "#9c179e"
            ],
            [
             0.4444444444444444,
             "#bd3786"
            ],
            [
             0.5555555555555556,
             "#d8576b"
            ],
            [
             0.6666666666666666,
             "#ed7953"
            ],
            [
             0.7777777777777778,
             "#fb9f3a"
            ],
            [
             0.8888888888888888,
             "#fdca26"
            ],
            [
             1,
             "#f0f921"
            ]
           ]
          },
          "colorway": [
           "#636efa",
           "#EF553B",
           "#00cc96",
           "#ab63fa",
           "#FFA15A",
           "#19d3f3",
           "#FF6692",
           "#B6E880",
           "#FF97FF",
           "#FECB52"
          ],
          "font": {
           "color": "#2a3f5f"
          },
          "geo": {
           "bgcolor": "white",
           "lakecolor": "white",
           "landcolor": "#E5ECF6",
           "showlakes": true,
           "showland": true,
           "subunitcolor": "white"
          },
          "hoverlabel": {
           "align": "left"
          },
          "hovermode": "closest",
          "mapbox": {
           "style": "light"
          },
          "paper_bgcolor": "white",
          "plot_bgcolor": "#E5ECF6",
          "polar": {
           "angularaxis": {
            "gridcolor": "white",
            "linecolor": "white",
            "ticks": ""
           },
           "bgcolor": "#E5ECF6",
           "radialaxis": {
            "gridcolor": "white",
            "linecolor": "white",
            "ticks": ""
           }
          },
          "scene": {
           "xaxis": {
            "backgroundcolor": "#E5ECF6",
            "gridcolor": "white",
            "gridwidth": 2,
            "linecolor": "white",
            "showbackground": true,
            "ticks": "",
            "zerolinecolor": "white"
           },
           "yaxis": {
            "backgroundcolor": "#E5ECF6",
            "gridcolor": "white",
            "gridwidth": 2,
            "linecolor": "white",
            "showbackground": true,
            "ticks": "",
            "zerolinecolor": "white"
           },
           "zaxis": {
            "backgroundcolor": "#E5ECF6",
            "gridcolor": "white",
            "gridwidth": 2,
            "linecolor": "white",
            "showbackground": true,
            "ticks": "",
            "zerolinecolor": "white"
           }
          },
          "shapedefaults": {
           "line": {
            "color": "#2a3f5f"
           }
          },
          "ternary": {
           "aaxis": {
            "gridcolor": "white",
            "linecolor": "white",
            "ticks": ""
           },
           "baxis": {
            "gridcolor": "white",
            "linecolor": "white",
            "ticks": ""
           },
           "bgcolor": "#E5ECF6",
           "caxis": {
            "gridcolor": "white",
            "linecolor": "white",
            "ticks": ""
           }
          },
          "title": {
           "x": 0.05
          },
          "xaxis": {
           "automargin": true,
           "gridcolor": "white",
           "linecolor": "white",
           "ticks": "",
           "title": {
            "standoff": 15
           },
           "zerolinecolor": "white",
           "zerolinewidth": 2
          },
          "yaxis": {
           "automargin": true,
           "gridcolor": "white",
           "linecolor": "white",
           "ticks": "",
           "title": {
            "standoff": 15
           },
           "zerolinecolor": "white",
           "zerolinewidth": 2
          }
         }
        },
        "title": {
         "text": "Accelerometer Data"
        },
        "xaxis": {
         "anchor": "y",
         "domain": [
          0,
          1
         ],
         "title": {
          "text": "Timestamp"
         }
        },
        "yaxis": {
         "anchor": "x",
         "domain": [
          0,
          1
         ],
         "title": {
          "text": "Acceleration (g)"
         }
        }
       }
      }
     },
     "metadata": {},
     "output_type": "display_data"
    }
   ],
   "source": [
    "## plotting the data using plotly\n",
    "import plotly.express as px\n",
    "fig = px.line(acc_sample, x='sample_index', y=['accX', 'accY', 'accZ'], title='Accelerometer Data')\n",
    "fig.update_layout(xaxis_title='Timestamp', yaxis_title='Acceleration (g)')\n",
    "fig.show()\n"
   ]
  },
  {
   "cell_type": "code",
   "execution_count": 11,
   "id": "b1d6d644",
   "metadata": {},
   "outputs": [
    {
     "data": {
      "text/plain": [
       "RangeIndex(start=0, stop=134, step=1)"
      ]
     },
     "execution_count": 11,
     "metadata": {},
     "output_type": "execute_result"
    }
   ],
   "source": [
    "acc_sample.index"
   ]
  },
  {
   "cell_type": "code",
   "execution_count": null,
   "id": "477266bc",
   "metadata": {},
   "outputs": [],
   "source": []
  }
 ],
 "metadata": {
  "kernelspec": {
   "display_name": "hw_ver3",
   "language": "python",
   "name": "python3"
  },
  "language_info": {
   "codemirror_mode": {
    "name": "ipython",
    "version": 3
   },
   "file_extension": ".py",
   "mimetype": "text/x-python",
   "name": "python",
   "nbconvert_exporter": "python",
   "pygments_lexer": "ipython3",
   "version": "3.11.11"
  }
 },
 "nbformat": 4,
 "nbformat_minor": 5
}
